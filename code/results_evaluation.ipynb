{
 "cells": [
  {
   "cell_type": "markdown",
   "metadata": {},
   "source": [
    "# Results evaluation of Space Saving Count"
   ]
  },
  {
   "cell_type": "markdown",
   "metadata": {},
   "source": [
    "## Pre-processing"
   ]
  },
  {
   "cell_type": "code",
   "execution_count": 6,
   "metadata": {},
   "outputs": [],
   "source": [
    "from counters import *\n",
    "import matplotlib\n",
    "import matplotlib.pyplot as plt"
   ]
  },
  {
   "cell_type": "markdown",
   "metadata": {},
   "source": [
    "## Defining necessary functions"
   ]
  },
  {
   "cell_type": "code",
   "execution_count": 7,
   "metadata": {},
   "outputs": [],
   "source": [
    "def get_arrays(file_path, epsilon):\n",
    "    # we calculate exact values to compare afterwards\n",
    "    counter_exact = ExactCounter(file_path, epsilon)\n",
    "    counter_exact.count()\n",
    "    exact_dict = counter_exact.getDict()\n",
    "    #print(exact_dict)\n",
    "\n",
    "    # we calculate the values with space saving\n",
    "    counter_space_saving = SpaceSavingCounter(file_path, epsilon)\n",
    "    counter_space_saving.count()\n",
    "    space_dict = counter_space_saving.getDict()\n",
    "    #print(space_dict)\n",
    "    return exact_dict, space_dict"
   ]
  },
  {
   "cell_type": "markdown",
   "metadata": {},
   "source": [
    "## Calling space saving count with increasing epsilon"
   ]
  },
  {
   "cell_type": "code",
   "execution_count": 8,
   "metadata": {},
   "outputs": [],
   "source": [
    "file_path = '../texts/english1.txt'\n",
    "epsilon = 0.1\n",
    "\n",
    "array_y = []\n",
    "array_x = []\n",
    "\n",
    "while True:\n",
    "    if epsilon <= 0.0002:\n",
    "        break\n",
    "    epsilon = epsilon - 0.0002\n",
    "    \n",
    "    exact_dict, space_dict = get_arrays(file_path, epsilon)\n",
    "\n",
    "    # Results analysis\n",
    "    exact_array = [item[0] for item in exact_dict]\n",
    "    space_array = [item[0] for item in space_dict]\n",
    "    \n",
    "    length = len(exact_dict)\n",
    "    accuracy = len(list(filter(lambda x: x in exact_array, space_array))) / length\n",
    "    \n",
    "    array_x.append(epsilon)\n",
    "    array_y.append(accuracy)"
   ]
  },
  {
   "cell_type": "markdown",
   "metadata": {},
   "source": [
    "## Accuracy Analysis"
   ]
  },
  {
   "cell_type": "code",
   "execution_count": 9,
   "metadata": {},
   "outputs": [
    {
     "data": {
      "image/png": "[encoded data removed]",
      "text/plain": [
       "<Figure size 432x288 with 1 Axes>"
      ]
     },
     "metadata": {
      "needs_background": "light"
     },
     "output_type": "display_data"
    }
   ],
   "source": [
    "fig, ax = plt.subplots()\n",
    "ax.plot(array_x, array_y)\n",
    "\n",
    "ax.set(xlabel='epsilon value', ylabel='accuracy',\n",
    "       title='How the change of epsilon influences accuracy')\n",
    "ax.invert_xaxis()\n",
    "ax.grid()"
   ]
  }
 ],
 "metadata": {
  "kernelspec": {
   "display_name": "Python 3",
   "language": "python",
   "name": "python3"
  },
  "language_info": {
   "codemirror_mode": {
    "name": "ipython",
    "version": 3
   },
   "file_extension": ".py",
   "mimetype": "text/x-python",
   "name": "python",
   "nbconvert_exporter": "python",
   "pygments_lexer": "ipython3",
   "version": "3.7.6"
  }
 },
 "nbformat": 4,
 "nbformat_minor": 2
}
